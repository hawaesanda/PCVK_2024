{
  "nbformat": 4,
  "nbformat_minor": 0,
  "metadata": {
    "colab": {
      "provenance": [],
      "authorship_tag": "ABX9TyN8pN1l1oU9tWqKrVFDmkvX",
      "include_colab_link": true
    },
    "kernelspec": {
      "name": "python3",
      "display_name": "Python 3"
    },
    "language_info": {
      "name": "python"
    }
  },
  "cells": [
    {
      "cell_type": "markdown",
      "metadata": {
        "id": "view-in-github",
        "colab_type": "text"
      },
      "source": [
        "<a href=\"https://colab.research.google.com/github/hawaesanda/PCVK_2024/blob/main/Week9_pcvk.ipynb\" target=\"_parent\"><img src=\"https://colab.research.google.com/assets/colab-badge.svg\" alt=\"Open In Colab\"/></a>"
      ]
    },
    {
      "cell_type": "markdown",
      "source": [
        "# **MODUL 8**\n",
        "Morfologi (Erosi, Dilasi, Opening, Closing, Transformasi Top-HaT dan Bottom-hat, skeleton, Thickening)"
      ],
      "metadata": {
        "id": "lDqPifmzN-MV"
      }
    },
    {
      "cell_type": "code",
      "execution_count": null,
      "metadata": {
        "colab": {
          "base_uri": "https://localhost:8080/"
        },
        "id": "suVAJtz8Nrrh",
        "outputId": "e50beb2d-cae9-41e8-c7a4-d60677359ae9"
      },
      "outputs": [
        {
          "output_type": "stream",
          "name": "stdout",
          "text": [
            "Mounted at /content/drive\n"
          ]
        }
      ],
      "source": [
        "from google.colab import drive\n",
        "drive.mount('/content/drive')"
      ]
    },
    {
      "cell_type": "code",
      "source": [
        "import cv2\n",
        "import numpy as np\n",
        "import matplotlib.pyplot as plt"
      ],
      "metadata": {
        "id": "Cy2NDWPKQKoW"
      },
      "execution_count": null,
      "outputs": []
    },
    {
      "cell_type": "code",
      "source": [
        "# Dilasi tanpa library\n",
        "\n",
        "def dilasi_citra(F, w):\n",
        "  # size image\n",
        "  p,q = F.shape\n",
        "\n",
        "  imgD = np.zeros((p,q), dtype=np.uint8)\n",
        "\n",
        "  # Generate structure element dilasi (SED)\n",
        "  SED = np.ones((w,w), dtype=np.uint8)\n",
        "  constant1 = (w-1)//2\n",
        "\n",
        "  # proses dilasi\n",
        "  for i in range(constant1, p-constant1):\n",
        "    for j in range(constant1, q-constant1):\n",
        "      temp= F[i - constant1 : i + constant1 + 1, j - constant1 : j + constant1 + 1]\n",
        "      product = temp*SED\n",
        "      imgD[i, j] = np.max(product)\n",
        "    return imgD\n",
        "\n",
        "  img_d = cv2.imread('/content/drive/MyDrive/PCVK/plat-nomor.jpeg', 0)\n",
        "  ret, thresh = cv2.threshold(img_d, 125, 200, cv2.THRESH_BINARY)\n",
        "  w=5\n",
        "  imgD = dilasi_citra(thresh, w)\n",
        "\n",
        "plt.subplot(131),plt.imshow(img_d,cmap = 'gray')\n",
        "plt.title('Citra Awal'), plt.xticks([]), plt.yticks([])\n",
        "plt.subplot(132),plt.imshow(imgD,cmap = 'gray')\n",
        "plt.title('Citra Hasil Dilasi'), plt.xticks([]), plt.yticks([])\n",
        "plt.show()\n"
      ],
      "metadata": {
        "id": "VtU4qhLfQhX4",
        "colab": {
          "base_uri": "https://localhost:8080/",
          "height": 134
        },
        "outputId": "a3379c21-a124-4344-c4b2-cb76f8a0a1b5"
      },
      "execution_count": null,
      "outputs": [
        {
          "output_type": "display_data",
          "data": {
            "text/plain": [
              "<Figure size 640x480 with 2 Axes>"
            ],
            "image/png": "[encoded data removed]"
          },
          "metadata": {}
        }
      ]
    },
    {
      "cell_type": "code",
      "source": [],
      "metadata": {
        "id": "OkT1sP1Yb32e"
      },
      "execution_count": null,
      "outputs": []
    }
  ]
}